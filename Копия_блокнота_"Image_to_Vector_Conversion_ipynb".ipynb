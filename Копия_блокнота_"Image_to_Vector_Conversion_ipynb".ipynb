{
  "nbformat": 4,
  "nbformat_minor": 5,
  "metadata": {
    "noteable-chatgpt": {
      "create_notebook": {
        "openai_conversation_id": "82056b5a-8d09-5eba-93b0-003489fc6b09",
        "openai_ephemeral_user_id": "5cc08b45-318c-537b-badd-86c4de986511",
        "openai_subdivision1_iso_code": "US-TX"
      }
    },
    "kernel_info": {
      "name": "python3"
    },
    "kernelspec": {
      "display_name": "Python 3.9",
      "language": "python",
      "name": "python3"
    },
    "selected_hardware_size": "small",
    "colab": {
      "provenance": [],
      "include_colab_link": true
    }
  },
  "cells": [
    {
      "cell_type": "markdown",
      "metadata": {
        "id": "view-in-github",
        "colab_type": "text"
      },
      "source": [
        "<a href=\"https://colab.research.google.com/github/K4ly4s/K4ly4s/blob/main/%D0%9A%D0%BE%D0%BF%D0%B8%D1%8F_%D0%B1%D0%BB%D0%BE%D0%BA%D0%BD%D0%BE%D1%82%D0%B0_%22Image_to_Vector_Conversion_ipynb%22.ipynb\" target=\"_parent\"><img src=\"https://colab.research.google.com/assets/colab-badge.svg\" alt=\"Open In Colab\"/></a>"
      ]
    },
    {
      "id": "a1431250-dcd9-43ab-882a-1499fba63bc7",
      "cell_type": "markdown",
      "source": [
        "# Конвертация изображений в векторный формат\n",
        "В этом ноутбуке мы реализуем код для конвертации растровых изображений в формате PNG в векторный формат SVG. Векторные изображения будут высокого качества с возможностью выделения объектов."
      ],
      "metadata": {
        "noteable": {
          "cell_type": "markdown"
        },
        "id": "a1431250-dcd9-43ab-882a-1499fba63bc7"
      }
    },
    {
      "cell_type": "markdown",
      "source": [
        "# Новый раздел"
      ],
      "metadata": {
        "id": "CEEEpLtDxsQ2"
      },
      "id": "CEEEpLtDxsQ2"
    },
    {
      "id": "ff770367-3b57-4a3b-8046-cf10f1303cae",
      "cell_type": "code",
      "metadata": {
        "noteable": {
          "cell_type": "code",
          "output_collection_id": "8fbb88b2-5730-46aa-b6bf-3d2be9c63ac2"
        },
        "ExecuteTime": {
          "end_time": "2023-09-10T20:22:16.598855+00:00",
          "start_time": "2023-09-10T20:22:14.190359+00:00"
        },
        "id": "ff770367-3b57-4a3b-8046-cf10f1303cae"
      },
      "execution_count": null,
      "source": [
        "!pip install -q opencv-python opencv-python-headless cairosvg svgwrite"
      ],
      "outputs": []
    },
    {
      "id": "a249e46f-da1f-470f-ac39-77fb484969cc",
      "cell_type": "markdown",
      "source": [
        "## Импорт необходимых библиотек\n",
        "Для начала импортируем все необходимые библиотеки. Мы будем использовать OpenCV для обработки изображений и CairoSVG для работы с SVG."
      ],
      "metadata": {
        "noteable": {
          "cell_type": "markdown"
        },
        "id": "a249e46f-da1f-470f-ac39-77fb484969cc"
      }
    },
    {
      "id": "33e3fd3a-6a96-414b-b2c1-ae4e1b44b481",
      "cell_type": "code",
      "metadata": {
        "noteable": {
          "cell_type": "code",
          "output_collection_id": "c9a1f434-58a6-438e-88f5-6380fa58507c"
        },
        "ExecuteTime": {
          "end_time": "2023-09-10T20:22:16.758239+00:00",
          "start_time": "2023-09-10T20:22:16.603526+00:00"
        },
        "id": "33e3fd3a-6a96-414b-b2c1-ae4e1b44b481"
      },
      "execution_count": null,
      "source": [
        "import cv2\n",
        "import cairosvg\n",
        "import os\n",
        "from tkinter import filedialog\n",
        "from tkinter import Tk"
      ],
      "outputs": []
    },
    {
      "id": "54bd80ea-623e-4f97-9c1b-1b86874fab97",
      "cell_type": "markdown",
      "source": [
        "## Функция для выбора папки с изображениями\n",
        "Создадим функцию, которая открывает диалоговое окно для выбора папки, где хранятся изображения в формате PNG. Эта функция будет возвращать путь к выбранной папке."
      ],
      "metadata": {
        "noteable": {
          "cell_type": "markdown"
        },
        "id": "54bd80ea-623e-4f97-9c1b-1b86874fab97"
      }
    },
    {
      "id": "cd398c4a-74ab-46db-9e88-6d2601a85021",
      "cell_type": "code",
      "metadata": {
        "noteable": {
          "cell_type": "code",
          "output_collection_id": "169abda7-7ac2-45e3-886c-591aea0d3709"
        },
        "ExecuteTime": {
          "end_time": "2023-09-10T20:22:16.957718+00:00",
          "start_time": "2023-09-10T20:22:16.803920+00:00"
        },
        "id": "cd398c4a-74ab-46db-9e88-6d2601a85021"
      },
      "execution_count": null,
      "source": [
        "def select_folder():\n",
        "    root = Tk()\n",
        "    root.withdraw()  # Hide the main window\n",
        "    folder_selected = filedialog.askdirectory()\n",
        "    return folder_selected"
      ],
      "outputs": []
    },
    {
      "id": "949353eb-bede-403e-bbcd-710c040f0e7b",
      "cell_type": "markdown",
      "source": [
        "## Функция для конвертации изображений в векторный формат\n",
        "Теперь создадим функцию, которая принимает путь к папке с PNG-изображениями и конвертирует их в SVG-формат. В этой функции мы будем использовать OpenCV для обработки изображений и CairoSVG для создания SVG-файлов."
      ],
      "metadata": {
        "noteable": {
          "cell_type": "markdown"
        },
        "id": "949353eb-bede-403e-bbcd-710c040f0e7b"
      }
    },
    {
      "cell_type": "code",
      "source": [
        "def convert_images_to_svg(folder_path):\n",
        "    for filename in os.listdir(folder_path):\n",
        "        if filename.endswith('.png'):\n",
        "            img_path = os.path.join(folder_path, filename)\n",
        "            img = cv2.imread(img_path, cv2.IMREAD_GRAYSCALE)  # Read the image in grayscale\n",
        "\n",
        "            # Thresholding to get binary image\n",
        "            _, thresh = cv2.threshold(img, 128, 255, cv2.THRESH_BINARY)\n",
        "\n",
        "            # Initialize SVG file\n",
        "            svg_filename = filename.replace('.png', '.svg')\n",
        "            svg_path = os.path.join(folder_path, svg_filename)\n",
        "            dwg = svgwrite.Drawing(svg_path, profile='tiny')\n",
        "\n",
        "            # Iterate through the image and add paths to SVG\n",
        "            for i in range(thresh.shape[0]):\n",
        "                for j in range(thresh.shape[1]):\n",
        "                    if thresh[i, j] == 0:  # Black pixel\n",
        "                        dwg.add(dwg.rect((j, i), (1, 1), fill='black'))\n",
        "\n",
        "            # Save SVG file\n",
        "            dwg.save()\n",
        "            print(f'Converted {filename} to {svg_filename}')"
      ],
      "metadata": {
        "id": "G_i2m8XL2nbb"
      },
      "id": "G_i2m8XL2nbb",
      "execution_count": null,
      "outputs": []
    },
    {
      "id": "e5ecf8f9-4c2b-47a1-a7d5-b6fb0d12c906",
      "cell_type": "markdown",
      "source": [
        "## Требования к векторизации\n",
        "1. Контур и форма объектов должны быть максимально точными.\n",
        "2. Необходимо сохранить цвет и градиенты.\n",
        "3. Текстуры и узоры должны быть воспроизведены.\n",
        "4. Необходима возможность редактировать отдельные объекты в векторном файле.\n",
        "5. Векторный файл должен быть максимально детализирован."
      ],
      "metadata": {
        "noteable": {
          "cell_type": "markdown"
        },
        "id": "e5ecf8f9-4c2b-47a1-a7d5-b6fb0d12c906"
      }
    },
    {
      "id": "af01fbad-233a-4739-bc80-7b2839a50651",
      "cell_type": "markdown",
      "source": [
        "## Реализация алгоритма векторизации\n",
        "Исходя из вышеуказанных требований, нам нужно реализовать сложный алгоритм векторизации. Этот алгоритм будет включать в себя следующие шаги:\n",
        "1. Чтение и предварительная обработка изображения.\n",
        "2. Выделение контуров и объектов.\n",
        "3. Воспроизведение цветов, градиентов и текстур.\n",
        "4. Сохранение векторного изображения в формате SVG с возможностью редактирования отдельных объектов.\n",
        "5. Оптимизация и детализация векторного изображения."
      ],
      "metadata": {
        "noteable": {
          "cell_type": "markdown"
        },
        "id": "af01fbad-233a-4739-bc80-7b2839a50651"
      }
    },
    {
      "id": "2eef7b1a-2a08-43a2-8151-17c29067e66c",
      "cell_type": "markdown",
      "source": [
        "## Шаг 1: Чтение и предварительная обработка изображения\n",
        "Первым шагом будет чтение изображения и его предварительная обработка. Это может включать в себя изменение размера изображения, преобразование в оттенки серого (если необходимо) и другие операции."
      ],
      "metadata": {
        "noteable": {
          "cell_type": "markdown"
        },
        "id": "2eef7b1a-2a08-43a2-8151-17c29067e66c"
      }
    },
    {
      "cell_type": "code",
      "source": [
        "def preprocess_image(image_path):\n",
        "    # Чтение изображения\n",
        "    img = cv2.imread(image_path)\n",
        "    # Преобразование в RGB (OpenCV загружает изображения в BGR)\n",
        "    img = cv2.cvtColor(img, cv2.COLOR_BGR2RGB)\n",
        "\n",
        "    # Ресайзинг\n",
        "    img = cv2.resize(img, (300, 300))\n",
        "\n",
        "    # Нормализация\n",
        "    img = img / 255.0\n",
        "\n",
        "    # Гауссова размытие\n",
        "    img = cv2.GaussianBlur(img, (5, 5), 0)\n",
        "\n",
        "    # Преобразование в оттенки серого\n",
        "    img = cv2.cvtColor(img, cv2.COLOR_RGB2GRAY)\n",
        "\n",
        "    return img\n"
      ],
      "metadata": {
        "id": "QqOK5MmA3iAn"
      },
      "id": "QqOK5MmA3iAn",
      "execution_count": null,
      "outputs": []
    },
    {
      "id": "e0025a11-bc89-41c7-8cc5-58fb757aa8fa",
      "cell_type": "markdown",
      "source": [
        "## Шаг 2: Выделение контуров и объектов\n",
        "На этом шаге мы будем использовать OpenCV для выделения контуров и объектов на изображении. Это необходимо для дальнейшей векторизации."
      ],
      "metadata": {
        "noteable": {
          "cell_type": "markdown"
        },
        "id": "e0025a11-bc89-41c7-8cc5-58fb757aa8fa"
      }
    },
    {
      "id": "ee30f46c-14e2-429b-ac6b-0f3af5871672",
      "cell_type": "code",
      "metadata": {
        "noteable": {
          "cell_type": "code",
          "output_collection_id": "dabceefa-abd0-4995-a172-01d5e1dfcde4"
        },
        "ExecuteTime": {
          "end_time": "2023-09-10T20:22:17.434741+00:00",
          "start_time": "2023-09-10T20:22:17.280421+00:00"
        },
        "id": "ee30f46c-14e2-429b-ac6b-0f3af5871672"
      },
      "execution_count": null,
      "source": [
        "def extract_contours(image):\n",
        "    # Преобразование изображения в оттенки серого\n",
        "    gray = cv2.cvtColor(image, cv2.COLOR_RGB2GRAY)\n",
        "    # Применение пороговой фильтрации\n",
        "    _, thresh = cv2.threshold(gray, 127, 255, cv2.THRESH_BINARY)\n",
        "    # Поиск контуров\n",
        "    contours, _ = cv2.findContours(image, cv2.RETR_LIST, cv2.CHAIN_APPROX_SIMPLE)\n",
        "    return contours"
      ],
      "outputs": []
    },
    {
      "id": "61b197cc-551e-47a1-ad3a-1c62298199c9",
      "cell_type": "markdown",
      "source": [
        "## Шаг 3: Воспроизведение цветов, градиентов и текстур\n",
        "На этом шаге мы будем работать над сохранением цветов, градиентов и текстур при векторизации. Это может быть сложным процессом, в зависимости от сложности изображения."
      ],
      "metadata": {
        "noteable": {
          "cell_type": "markdown"
        },
        "id": "61b197cc-551e-47a1-ad3a-1c62298199c9"
      }
    },
    {
      "id": "f2c9e2a4-2826-4e04-8dc3-03678c2b26ed",
      "cell_type": "code",
      "metadata": {
        "noteable": {
          "cell_type": "code",
          "output_collection_id": "bd99b195-b829-4e0f-8833-ca1abb294afa"
        },
        "ExecuteTime": {
          "end_time": "2023-09-10T20:22:17.591905+00:00",
          "start_time": "2023-09-10T20:22:17.438400+00:00"
        },
        "id": "f2c9e2a4-2826-4e04-8dc3-03678c2b26ed"
      },
      "execution_count": null,
      "source": [
        "import cv2\n",
        "import numpy as np\n",
        "\n",
        "def reproduce_colors_and_textures(image, contours):\n",
        "    # Копия изображения для рисования\n",
        "    output = image.copy()\n",
        "\n",
        "    for contour in contours:\n",
        "        # Вычисление среднего цвета внутри контура\n",
        "        mask = np.zeros(image.shape[:2], dtype=np.uint8)\n",
        "        cv2.drawContours(mask, [contour], -1, 255, -1)\n",
        "        mean_color = cv2.mean(image, mask=mask)\n",
        "\n",
        "        # Заливка контура средним цветом\n",
        "        cv2.drawContours(output, [contour], -1, mean_color, -1)\n",
        "\n",
        "        # TODO: Добавить логику для градиентов и текстур если необходимо\n",
        "\n",
        "    return output\n"
      ],
      "outputs": []
    },
    {
      "id": "d755dd76-684a-40ba-8955-edab95a45be9",
      "cell_type": "markdown",
      "source": [
        "## Шаг 4: Сохранение векторного изображения\n",
        "После того как все объекты и их атрибуты (цвет, текстура и т.д.) будут обработаны, следующим шагом будет сохранение этих данных в формате SVG."
      ],
      "metadata": {
        "noteable": {
          "cell_type": "markdown"
        },
        "id": "d755dd76-684a-40ba-8955-edab95a45be9"
      }
    },
    {
      "cell_type": "code",
      "source": [
        "def save_as_svg(contours, colors_and_textures, filename=\"output.svg\"):\n",
        "    # Инициализация SVG холста\n",
        "    dwg = svgwrite.Drawing(filename, profile='tiny')\n",
        "\n",
        "    for i, contour in enumerate(contours):\n",
        "        # Извлечение цвета и текстуры (если есть)\n",
        "        color = colors_and_textures[i]['color']\n",
        "        texture = colors_and_textures[i].get('texture', None)\n",
        "\n",
        "        # Преобразование контура в формат, подходящий для SVG\n",
        "        contour = contour.astype(float).reshape(-1, 2)\n",
        "        points = [tuple(point) for point in contour]\n",
        "\n",
        "        # Создание полигона с контуром и цветом\n",
        "        polygon = dwg.polygon(points=points, fill=color)\n",
        "        dwg.add(polygon)\n",
        "\n",
        "        # TODO: Добавить логику для текстур, если необходимо\n",
        "\n",
        "    # Сохранение SVG файла\n",
        "    dwg.save()\n",
        "\n",
        "# Пример использования\n",
        "contours = [np.array([[10, 10], [50, 10], [50, 50], [10, 50]])]\n",
        "colors_and_textures = [{'color': 'red'}]\n",
        "save_as_svg(contours, colors_and_textures)\n"
      ],
      "metadata": {
        "id": "I4Jt3kcU9R8s"
      },
      "id": "I4Jt3kcU9R8s",
      "execution_count": null,
      "outputs": []
    },
    {
      "id": "c18fc742-043a-4dc3-9bb9-430cabfd65d6",
      "cell_type": "markdown",
      "source": [
        "## Шаг 5: Оптимизация и детализация\n",
        "Последним шагом будет оптимизация и детализация векторного изображения. Это может включать в себя сглаживание контуров, оптимизацию количества точек в векторах и другие улучшения."
      ],
      "metadata": {
        "noteable": {
          "cell_type": "markdown"
        },
        "id": "c18fc742-043a-4dc3-9bb9-430cabfd65d6"
      }
    },
    {
      "id": "2ae3380f-8f83-43b8-b0ba-0bed14b9ffb9",
      "cell_type": "code",
      "metadata": {
        "noteable": {
          "cell_type": "code",
          "output_collection_id": "71105eb6-b514-4f23-8f20-37de697c993d"
        },
        "ExecuteTime": {
          "end_time": "2023-09-10T20:22:17.913678+00:00",
          "start_time": "2023-09-10T20:22:17.760697+00:00"
        },
        "id": "2ae3380f-8f83-43b8-b0ba-0bed14b9ffb9"
      },
      "execution_count": null,
      "source": [
        "from lxml import etree\n",
        "\n",
        "def optimize_and_detail(svg_data):\n",
        "    # Парсинг SVG данных\n",
        "    root = etree.fromstring(svg_data)\n",
        "\n",
        "    # Итерация по всем полигонам\n",
        "    for polygon in root.xpath('//svg:polygon', namespaces={'svg': 'http://www.w3.org/2000/svg'}):\n",
        "        points = polygon.attrib['points'].strip().split(' ')\n",
        "\n",
        "        # TODO: Добавить логику для оптимизации и детализации\n",
        "\n",
        "        # Пример: удаляем полигоны с менее чем 3 точками (не являются полигонами)\n",
        "        if len(points) < 3:\n",
        "            polygon.getparent().remove(polygon)\n",
        "\n",
        "    # Сериализация обратно в строку\n",
        "    optimized_svg_data = etree.tostring(root).decode('utf-8')\n",
        "    return optimized_svg_data\n"
      ],
      "outputs": []
    },
    {
      "id": "835bdbda-c9be-43e0-ac6a-706b7674f48c",
      "cell_type": "code",
      "metadata": {
        "noteable": {
          "cell_type": "code",
          "output_collection_id": "dd7110f9-8ed2-4fcb-8d61-d1a4d002092d"
        },
        "ExecuteTime": {
          "end_time": "2023-09-10T20:22:18.072986+00:00",
          "start_time": "2023-09-10T20:22:17.918386+00:00"
        },
        "id": "835bdbda-c9be-43e0-ac6a-706b7674f48c"
      },
      "execution_count": null,
      "source": [
        "def reproduce_colors_and_textures(image, contours):\n",
        "    # Инициализация словаря для хранения атрибутов каждого контура\n",
        "    contour_attributes = {}\n",
        "\n",
        "    for i, contour in enumerate(contours):\n",
        "        # Вычисление центра масс контура для определения его цвета\n",
        "        M = cv2.moments(contour)\n",
        "        if M['m00'] != 0:\n",
        "            cX = int(M['m10'] / M['m00'])\n",
        "            cY = int(M['m01'] / M['m00'])\n",
        "        else:\n",
        "            cX, cY = 0, 0\n",
        "\n",
        "        # Получение цвета в этой точке\n",
        "        color = image[cY, cX]\n",
        "\n",
        "        # TODO: Добавить логику для воспроизведения градиентов и текстур\n",
        "\n",
        "        # Сохранение атрибутов контура\n",
        "        contour_attributes[i] = {'color': color}\n",
        "\n",
        "    return contour_attributes"
      ],
      "outputs": []
    },
    {
      "id": "0d4fbbda-3f5a-4416-b1cb-eb25b2d3cf45",
      "cell_type": "code",
      "metadata": {
        "noteable": {
          "cell_type": "code",
          "output_collection_id": "b7898cfe-4f35-473e-86cf-247029439639"
        },
        "ExecuteTime": {
          "end_time": "2023-09-10T20:22:18.233290+00:00",
          "start_time": "2023-09-10T20:22:18.078496+00:00"
        },
        "id": "0d4fbbda-3f5a-4416-b1cb-eb25b2d3cf45"
      },
      "execution_count": null,
      "source": [
        "def reproduce_colors_and_textures(image, contours):\n",
        "    # Инициализация словаря для хранения атрибутов каждого контура\n",
        "    contour_attributes = {}\n",
        "\n",
        "    for i, contour in enumerate(contours):\n",
        "        # Вычисление центра масс контура для определения его цвета\n",
        "        M = cv2.moments(contour)\n",
        "        if M['m00'] != 0:\n",
        "            cX = int(M['m10'] / M['m00'])\n",
        "            cY = int(M['m01'] / M['m00'])\n",
        "        else:\n",
        "            cX, cY = 0, 0\n",
        "\n",
        "        # Получение цвета в этой точке\n",
        "        color = image[cY, cX]\n",
        "\n",
        "        # Воспроизведение градиентов и текстур (простой пример)\n",
        "        gradient = None  # TODO: Реализовать алгоритм для определения градиента\n",
        "        texture = None  # TODO: Реализовать алгоритм для определения текстуры\n",
        "\n",
        "        # Сохранение атрибутов контура\n",
        "        contour_attributes[i] = {'color': color, 'gradient': gradient, 'texture': texture}\n",
        "\n",
        "    return contour_attributes"
      ],
      "outputs": []
    },
    {
      "id": "4f4c088f-fec9-4de6-9ba5-b401e198d600",
      "cell_type": "code",
      "metadata": {
        "noteable": {
          "cell_type": "code",
          "output_collection_id": "adc2a9e0-b06e-43b3-a6a8-ae7065752dea"
        },
        "ExecuteTime": {
          "end_time": "2023-09-10T20:22:18.393528+00:00",
          "start_time": "2023-09-10T20:22:18.237747+00:00"
        },
        "id": "4f4c088f-fec9-4de6-9ba5-b401e198d600"
      },
      "execution_count": null,
      "source": [
        "import numpy as np\n",
        "import cv2\n",
        "\n",
        "def detect_gradient(image, contour):\n",
        "    # TODO: Реализовать алгоритм для определения градиента\n",
        "    return None\n",
        "\n",
        "def detect_texture(image, contour):\n",
        "    # TODO: Реализовать алгоритм для определения текстуры\n",
        "    return None\n",
        "\n",
        "def reproduce_colors_and_textures(image, contours):\n",
        "    # Инициализация словаря для хранения атрибутов каждого контура\n",
        "    contour_attributes = {}\n",
        "\n",
        "    for i, contour in enumerate(contours):\n",
        "        # Вычисление центра масс контура для определения его цвета\n",
        "        M = cv2.moments(contour)\n",
        "        if M['m00'] != 0:\n",
        "            cX = int(M['m10'] / M['m00'])\n",
        "            cY = int(M['m01'] / M['m00'])\n",
        "        else:\n",
        "            cX, cY = 0, 0\n",
        "\n",
        "        # Получение цвета в этой точке\n",
        "        color = image[cY, cX]\n",
        "\n",
        "        # Воспроизведение градиентов и текстур\n",
        "        gradient = detect_gradient(image, contour)\n",
        "        texture = detect_texture(image, contour)\n",
        "\n",
        "        # Сохранение атрибутов контура\n",
        "        contour_attributes[i] = {'color': color, 'gradient': gradient, 'texture': texture}\n",
        "\n",
        "    return contour_attributes"
      ],
      "outputs": []
    },
    {
      "id": "8abc0232-7785-4ddd-8d4a-5a081f0f2dab",
      "cell_type": "code",
      "metadata": {
        "noteable": {
          "cell_type": "code",
          "output_collection_id": "189698de-1d34-452d-ace4-e364919adada"
        },
        "ExecuteTime": {
          "end_time": "2023-09-10T20:22:18.554578+00:00",
          "start_time": "2023-09-10T20:22:18.398199+00:00"
        },
        "id": "8abc0232-7785-4ddd-8d4a-5a081f0f2dab"
      },
      "execution_count": null,
      "source": [
        "from skimage.feature import greycomatrix, greycoprops\n",
        "from skimage import img_as_ubyte\n",
        "\n",
        "def detect_gradient(image, contour):\n",
        "    # Используем оператор Собеля для определения градиента\n",
        "    sobelx = cv2.Sobel(image, cv2.CV_64F, 1, 0, ksize=3)\n",
        "    sobely = cv2.Sobel(image, cv2.CV_64F, 0, 1, ksize=3)\n",
        "    gradient = np.sqrt(sobelx**2 + sobely**2)\n",
        "    return gradient\n",
        "\n",
        "def detect_texture(image, contour):\n",
        "    # Используем GLCM для определения текстуры\n",
        "    gray_image = cv2.cvtColor(image, cv2.COLOR_BGR2GRAY)\n",
        "    gray_image = img_as_ubyte(gray_image)\n",
        "    glcm = greycomatrix(gray_image, [1], [0],  symmetric=True, normed=True)\n",
        "    contrast = greycoprops(glcm, 'contrast')[0, 0]\n",
        "    return contrast\n",
        "\n",
        "def reproduce_colors_and_textures(image, contours):\n",
        "    # Инициализация словаря для хранения атрибутов каждого контура\n",
        "    contour_attributes = {}\n",
        "\n",
        "    for i, contour in enumerate(contours):\n",
        "        # Вычисление центра масс контура для определения его цвета\n",
        "        M = cv2.moments(contour)\n",
        "        if M['m00'] != 0:\n",
        "            cX = int(M['m10'] / M['m00'])\n",
        "            cY = int(M['m01'] / M['m00'])\n",
        "        else:\n",
        "            cX, cY = 0, 0\n",
        "\n",
        "        # Получение цвета в этой точке\n",
        "        color = image[cY, cX]\n",
        "\n",
        "        # Воспроизведение градиентов и текстур\n",
        "        gradient = detect_gradient(image, contour)\n",
        "        texture = detect_texture(image, contour)\n",
        "\n",
        "        # Сохранение атрибутов контура\n",
        "        contour_attributes[i] = {'color': color, 'gradient': gradient, 'texture': texture}\n",
        "\n",
        "    return contour_attributes"
      ],
      "outputs": []
    }
  ]
}